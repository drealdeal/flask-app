{
  "cells": [
    {
      "cell_type": "code",
      "execution_count": null,
      "metadata": {
        "colab": {
          "base_uri": "https://localhost:8080/"
        },
        "id": "RBH8KFw_H6Lv",
        "outputId": "26815084-7036-4ab0-9838-e3c96c031b82"
      },
      "outputs": [
        {
          "metadata": {
            "tags": null
          },
          "name": "stdout",
          "output_type": "stream",
          "text": [
            "Requirement already satisfied: pyngrok in /usr/local/lib/python3.10/dist-packages (7.2.2)\n",
            "Requirement already satisfied: PyYAML>=5.1 in /usr/local/lib/python3.10/dist-packages (from pyngrok) (6.0.2)\n",
            "Collecting youtube-transcript-api\n",
            "  Downloading youtube_transcript_api-0.6.3-py3-none-any.whl.metadata (17 kB)\n",
            "Requirement already satisfied: defusedxml<0.8.0,>=0.7.1 in /usr/local/lib/python3.10/dist-packages (from youtube-transcript-api) (0.7.1)\n",
            "Requirement already satisfied: requests in /usr/local/lib/python3.10/dist-packages (from youtube-transcript-api) (2.32.3)\n",
            "Requirement already satisfied: charset-normalizer<4,>=2 in /usr/local/lib/python3.10/dist-packages (from requests->youtube-transcript-api) (3.4.0)\n",
            "Requirement already satisfied: idna<4,>=2.5 in /usr/local/lib/python3.10/dist-packages (from requests->youtube-transcript-api) (3.10)\n",
            "Requirement already satisfied: urllib3<3,>=1.21.1 in /usr/local/lib/python3.10/dist-packages (from requests->youtube-transcript-api) (2.2.3)\n",
            "Requirement already satisfied: certifi>=2017.4.17 in /usr/local/lib/python3.10/dist-packages (from requests->youtube-transcript-api) (2024.12.14)\n",
            "Downloading youtube_transcript_api-0.6.3-py3-none-any.whl (622 kB)\n",
            "\u001b[2K   \u001b[90m━━━━━━━━━━━━━━━━━━━━━━━━━━━━━━━━━━━━━━━━\u001b[0m \u001b[32m622.3/622.3 kB\u001b[0m \u001b[31m30.9 MB/s\u001b[0m eta \u001b[36m0:00:00\u001b[0m\n",
            "\u001b[?25hInstalling collected packages: youtube-transcript-api\n",
            "Successfully installed youtube-transcript-api-0.6.3\n",
            "Ngrok URL: NgrokTunnel: \"https://8565-35-199-44-253.ngrok-free.app\" -> \"http://localhost:5000\"\n",
            " * Serving Flask app '__main__'\n",
            " * Debug mode: off\n"
          ]
        },
        {
          "metadata": {
            "tags": null
          },
          "name": "stderr",
          "output_type": "stream",
          "text": [
            "INFO:werkzeug:\u001b[31m\u001b[1mWARNING: This is a development server. Do not use it in a production deployment. Use a production WSGI server instead.\u001b[0m\n",
            " * Running on http://127.0.0.1:5000\n",
            "INFO:werkzeug:\u001b[33mPress CTRL+C to quit\u001b[0m\n"
          ]
        },
        {
          "metadata": {
            "tags": null
          },
          "name": "stdout",
          "output_type": "stream",
          "text": [
            "Incoming Request Headers: Host: 8565-35-199-44-253.ngrok-free.app\r\n",
            "User-Agent: Make/production\r\n",
            "Content-Length: 85\r\n",
            "Accept-Encoding: gzip, br, deflate\r\n",
            "Content-Type: application/json\r\n",
            "X-Forwarded-For: 54.78.149.203\r\n",
            "X-Forwarded-Host: 8565-35-199-44-253.ngrok-free.app\r\n",
            "X-Forwarded-Proto: https\r\n",
            "\r\n",
            "\n",
            "Raw Request Body: {\n",
            "\"video_url\": \"https://www.youtube.com/watch?v=rh0MrQcU568&ab_channel=DavidOndrej\"\n",
            "}\n",
            "Parsed JSON: {'video_url': 'https://www.youtube.com/watch?v=rh0MrQcU568&ab_channel=DavidOndrej'}\n",
            "Extracted Video ID: rh0MrQcU568\n"
          ]
        },
        {
          "metadata": {
            "tags": null
          },
          "name": "stderr",
          "output_type": "stream",
          "text": [
            "INFO:werkzeug:127.0.0.1 - - [04/Jan/2025 07:44:59] \"POST /webhook HTTP/1.1\" 200 -\n"
          ]
        },
        {
          "metadata": {
            "tags": null
          },
          "name": "stdout",
          "output_type": "stream",
          "text": [
            "Transcript fetched successfully.\n"
          ]
        }
      ],
      "source": [
        "# Install the required library\n",
        "!pip install pyngrok\n",
        "!pip install youtube-transcript-api\n",
        "\n",
        "# Import the library\n",
        "from flask import Flask, request, jsonify\n",
        "from youtube_transcript_api import YouTubeTranscriptApi\n",
        "from pyngrok import ngrok\n",
        "\n",
        "app = Flask(__name__)\n",
        "\n",
        "@app.route('/webhook', methods=['POST'])\n",
        "def process_url():\n",
        "    try:\n",
        "        # Log incoming headers and raw body for debugging\n",
        "        print(\"Incoming Request Headers:\", request.headers)\n",
        "        print(\"Raw Request Body:\", request.data.decode('utf-8'))  # Decode raw bytes to string\n",
        "\n",
        "        # Attempt to parse JSON\n",
        "        data = request.get_json(force=True, silent=True)\n",
        "        if not data:\n",
        "            print(\"Error: Request body is not valid JSON.\")\n",
        "            return jsonify({\"error\": \"Request body is not valid JSON\"}), 400\n",
        "\n",
        "        print(\"Parsed JSON:\", data)\n",
        "\n",
        "        # Extract video_url\n",
        "        video_url = data.get(\"video_url\")\n",
        "        if not video_url:\n",
        "            print(\"Error: No video_url provided\")\n",
        "            return jsonify({\"error\": \"No video_url provided\"}), 400\n",
        "\n",
        "        # Extract video ID\n",
        "        video_id = video_url.split('v=')[-1].split('&')[0]\n",
        "        print(\"Extracted Video ID:\", video_id)\n",
        "\n",
        "        # Fetch transcript\n",
        "        transcript = YouTubeTranscriptApi.get_transcript(video_id)\n",
        "        full_transcript = '\\n'.join([item['text'] for item in transcript])\n",
        "        print(\"Transcript fetched successfully.\")\n",
        "\n",
        "        return jsonify({\"transcript\": full_transcript})\n",
        "\n",
        "    except Exception as e:\n",
        "        import traceback\n",
        "        traceback.print_exc()\n",
        "        print(\"Error:\", str(e))\n",
        "        return jsonify({\"error\": str(e)}), 500\n",
        "\n",
        "if __name__ == '__main__':\n",
        "    # Set your Ngrok auth token\n",
        "    ngrok.set_auth_token(\"2r8XIAIrtb5wF64sOiEVABesyhg_36bjxtoSiHXoQiXyKcjE1\")\n",
        "    public_url = ngrok.connect(5000)  # Expose port 5000 to the internet\n",
        "    print(\"Ngrok URL:\", public_url)\n",
        "    app.run(port=5000)"
      ]
    },
    {
      "cell_type": "markdown",
      "metadata": {
        "id": "nu9s-biXJ9p1"
      },
      "source": [
        "# New Section"
      ]
    }
  ],
  "metadata": {
    "colab": {
      "provenance": []
    },
    "kernelspec": {
      "display_name": "Python 3",
      "name": "python3"
    },
    "language_info": {
      "name": "python"
    }
  },
  "nbformat": 4,
  "nbformat_minor": 0
}