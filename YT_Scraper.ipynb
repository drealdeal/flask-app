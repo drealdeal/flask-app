# Install the required libraries
!pip install pyngrok
!pip install youtube-transcript-api

# Import the required libraries
from flask import Flask, request, jsonify
from youtube_transcript_api import YouTubeTranscriptApi
from pyngrok import ngrok

app = Flask(__name__)

@app.route('/webhook', methods=['POST'])
def process_url():
    try:
        # Parse the incoming JSON data
        data = request.get_json(force=True, silent=True)
        if not data:
            return jsonify({"error": "Request body is not valid JSON"}), 400

        # Extract video_url
        video_url = data.get("video_url")
        if not video_url:
            return jsonify({"error": "No video_url provided"}), 400

        # Extract video ID
        video_id = video_url.split('v=')[-1].split('&')[0]

        # Fetch transcript
        transcript = YouTubeTranscriptApi.get_transcript(video_id)
        full_transcript = '\n'.join([item['text'] for item in transcript])

        return jsonify({"transcript": full_transcript})

    except Exception as e:
        return jsonify({"error": str(e)}), 500

if __name__ == '__main__':
    # Set your Ngrok auth token
    ngrok.set_auth_token("2r8XIAIrtb5wF64sOiEVABesyhg_36bjxtoSiHXoQiXyKcjE1")
    public_url = ngrok.connect(5000)  # Expose port 5000 to the internet
    app.run(port=5000)
